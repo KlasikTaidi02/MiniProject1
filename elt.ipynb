{
 "cells": [
  {
   "cell_type": "code",
   "execution_count": null,
   "metadata": {},
   "outputs": [],
   "source": [
    "import pandas as pd\n",
    "from sqlalchemy import create_engine\n",
    "\n",
    "# Koneksi ke database OLTP dan Data Warehouse\n",
    "oltp_engine = create_engine(\"jdbc:postgresql://localhost:5432/oltp\")\n",
    "dw_engine = create_engine(\"jdbc:postgresql://localhost:5432/warehouse\")\n"
   ]
  },
  {
   "cell_type": "code",
   "execution_count": null,
   "metadata": {},
   "outputs": [],
   "source": [
    "# Extract data dari OLTP\n",
    "users_df = pd.read_sql('SELECT * FROM tb_users', oltp_engine)\n",
    "shippers_df = pd.read_sql('SELECT * FROM tb_shippers', oltp_engine)\n",
    "payments_df = pd.read_sql('SELECT * FROM tb_payments', oltp_engine)\n",
    "ratings_df = pd.read_sql('SELECT * FROM tb_ratings', oltp_engine)\n",
    "vouchers_df = pd.read_sql('SELECT * FROM tb_vouchers', oltp_engine)\n",
    "orders_df = pd.read_sql('SELECT * FROM tb_orders', oltp_engine)\n",
    "products_df = pd.read_sql('SELECT * FROM tb_products', oltp_engine)\n",
    "order_items_df = pd.read_sql('SELECT * FROM tb_order_items', oltp_engine)\n",
    "product_category_df = pd.read_sql('SELECT * FROM tb_product_category', oltp_engine)"
   ]
  },
  {
   "cell_type": "code",
   "execution_count": null,
   "metadata": {},
   "outputs": [],
   "source": [
    "order_df = order_df.merge(users_df, on='user_id')\n",
    "order_df = order_df.merge(payments_df, on='payment_id')\n",
    "order_df = order_df.merge(shippers_df, on='shipper_id')\n",
    "order_df = order_df.merge(ratings_df, on='rating_id')\n",
    "order_df = order_df.merge(vouchers_df, how='left', on='voucher_id')\n",
    "\n",
    "products_df = products_df.merge(product_category_df,how='left', on='product_category_id')\n",
    "order_items_df = order_items_df.merge(products_df,how='left', on='product_id')\n"
   ]
  },
  {
   "cell_type": "code",
   "execution_count": null,
   "metadata": {},
   "outputs": [],
   "source": [
    "# Load Dim User\n",
    "users_df.to_sql('dim_user', dw_engine, if_exists='append', index=False)\n",
    "\n",
    "# Load Dim Shipper\n",
    "shippers_df.to_sql('dim_shipper', dw_engine, if_exists='append', index=False)\n",
    "\n",
    "# Load Dim Payment\n",
    "payments_df.to_sql('dim_payment', dw_engine, if_exists='append', index=False)\n",
    "\n",
    "# Load Dim Rating\n",
    "ratings_df.to_sql('dim_rating', dw_engine, if_exists='append', index=False)\n",
    "\n",
    "# Load Dim Voucher\n",
    "vouchers_df.to_sql('dim_voucher', dw_engine, if_exists='append', index=False)\n",
    "\n",
    "# Load Fact Orders\n",
    "orders_df.to_sql('fact_orders', dw_engine, if_exists='append', index=False)\n",
    "\n",
    "# Load Dim Product Category\n",
    "product_category_df.to_sql('dim_product_category', dw_engine, if_exists='append', index=False)\n",
    "\n",
    "# Load Dim Product\n",
    "products_df.to_sql('dim_product', dw_engine, if_exists='append', index=False)\n",
    "\n",
    "# Load Fact Order Item\n",
    "order_items_df.to_sql('fact_order_item', dw_engine, if_exists='append', index=False)\n",
    "\n",
    "print(\"ETL process completed successfully.\")"
   ]
  },
  {
   "cell_type": "code",
   "execution_count": null,
   "metadata": {},
   "outputs": [],
   "source": []
  }
 ],
 "metadata": {
  "language_info": {
   "name": "python"
  }
 },
 "nbformat": 4,
 "nbformat_minor": 2
}
